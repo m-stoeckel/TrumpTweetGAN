{
  "nbformat": 4,
  "nbformat_minor": 0,
  "metadata": {
    "kernelspec": {
      "display_name": "Python 3",
      "language": "python",
      "name": "python3"
    },
    "language_info": {
      "codemirror_mode": {
        "name": "ipython",
        "version": 3
      },
      "file_extension": ".py",
      "mimetype": "text/x-python",
      "name": "python",
      "nbconvert_exporter": "python",
      "pygments_lexer": "ipython3",
      "version": "3.7.3"
    },
    "colab": {
      "name": "BertGAN.ipynb",
      "provenance": [],
      "collapsed_sections": [],
      "toc_visible": true,
      "include_colab_link": true
    }
  },
  "cells": [
    {
      "cell_type": "markdown",
      "metadata": {
        "id": "view-in-github",
        "colab_type": "text"
      },
      "source": [
        "<a href=\"https://colab.research.google.com/github/m-stoeckel/TrumpTweetGAN/blob/dev_manu/BertGAN.ipynb\" target=\"_parent\"><img src=\"https://colab.research.google.com/assets/colab-badge.svg\" alt=\"Open In Colab\"/></a>"
      ]
    },
    {
      "cell_type": "code",
      "metadata": {
        "id": "DDYuhETz_1W-",
        "colab_type": "code",
        "outputId": "e8f1ba65-ccb0-43ea-d5f5-e74d38f27b55",
        "colab": {
          "base_uri": "https://localhost:8080/",
          "height": 171
        }
      },
      "source": [
        "!pip install TwitterSearch"
      ],
      "execution_count": 0,
      "outputs": [
        {
          "output_type": "stream",
          "text": [
            "Requirement already satisfied: TwitterSearch in /usr/local/lib/python3.6/dist-packages (1.0.2)\n",
            "Requirement already satisfied: requests-oauthlib>=0.3.0 in /usr/local/lib/python3.6/dist-packages (from TwitterSearch) (1.2.0)\n",
            "Requirement already satisfied: requests>=1.0.0 in /usr/local/lib/python3.6/dist-packages (from TwitterSearch) (2.21.0)\n",
            "Requirement already satisfied: oauthlib>=3.0.0 in /usr/local/lib/python3.6/dist-packages (from requests-oauthlib>=0.3.0->TwitterSearch) (3.1.0)\n",
            "Requirement already satisfied: idna<2.9,>=2.5 in /usr/local/lib/python3.6/dist-packages (from requests>=1.0.0->TwitterSearch) (2.8)\n",
            "Requirement already satisfied: certifi>=2017.4.17 in /usr/local/lib/python3.6/dist-packages (from requests>=1.0.0->TwitterSearch) (2019.6.16)\n",
            "Requirement already satisfied: urllib3<1.25,>=1.21.1 in /usr/local/lib/python3.6/dist-packages (from requests>=1.0.0->TwitterSearch) (1.24.3)\n",
            "Requirement already satisfied: chardet<3.1.0,>=3.0.2 in /usr/local/lib/python3.6/dist-packages (from requests>=1.0.0->TwitterSearch) (3.0.4)\n"
          ],
          "name": "stdout"
        }
      ]
    },
    {
      "cell_type": "markdown",
      "metadata": {
        "id": "g_hP_ivA4e1Q",
        "colab_type": "text"
      },
      "source": [
        "### Aquire corpus from GitHub"
      ]
    },
    {
      "cell_type": "code",
      "metadata": {
        "id": "4sbVkZb34cvF",
        "colab_type": "code",
        "outputId": "7f26e393-415f-40fe-b7e9-90ac91650edb",
        "colab": {
          "base_uri": "https://localhost:8080/",
          "height": 185
        }
      },
      "source": [
        "from urllib import request\n",
        "import os\n",
        "from zipfile import ZipFile\n",
        "from typing import *\n",
        "\n",
        "save_dir = '/content/corpus/'\n",
        "file_list: List[str] = ['condensed_2009.json.zip', 'condensed_2010.json.zip', 'condensed_2011.json.zip', 'condensed_2012.json.zip', 'condensed_2013.json.zip', 'condensed_2014.json.zip', 'condensed_2015.json.zip', 'condensed_2016.json.zip', 'condensed_2017.json.zip', 'condensed_2018.json.zip']\n",
        "url_root = 'https://github.com/bpb27/trump_tweet_data_archive/raw/master/'\n",
        "\n",
        "# Download Trump tweets\n",
        "os.makedirs(save_dir, exist_ok=True)\n",
        "for file_name in file_list:\n",
        "  print(f'Downloading {file_name}..')\n",
        "  file_path = save_dir + file_name\n",
        "  request.urlretrieve(url_root + file_name, file_path)\n",
        "  with ZipFile(file_path, 'r') as zip:\n",
        "    zip.extractall(save_dir)\n",
        "  os.remove(file_path)"
      ],
      "execution_count": 0,
      "outputs": [
        {
          "output_type": "stream",
          "text": [
            "Downloading condensed_2009.json.zip..\n",
            "Downloading condensed_2010.json.zip..\n",
            "Downloading condensed_2011.json.zip..\n",
            "Downloading condensed_2012.json.zip..\n",
            "Downloading condensed_2013.json.zip..\n",
            "Downloading condensed_2014.json.zip..\n",
            "Downloading condensed_2015.json.zip..\n",
            "Downloading condensed_2016.json.zip..\n",
            "Downloading condensed_2017.json.zip..\n",
            "Downloading condensed_2018.json.zip..\n"
          ],
          "name": "stdout"
        }
      ]
    },
    {
      "cell_type": "code",
      "metadata": {
        "id": "NuDNPv1gB7CD",
        "colab_type": "code",
        "colab": {}
      },
      "source": [
        "# TODO"
      ],
      "execution_count": 0,
      "outputs": []
    },
    {
      "cell_type": "code",
      "metadata": {
        "id": "NfOtc3IpCmZH",
        "colab_type": "code",
        "outputId": "8919f8f6-7b2c-4617-aa9e-1553d7b2ad6a",
        "colab": {
          "base_uri": "https://localhost:8080/",
          "height": 185
        }
      },
      "source": [
        "import json\n",
        "\n",
        "file_list = list(map(lambda s: s.replace('.zip', ''), file_list))\n",
        "condensed_2018: str = file_list[-1]\n",
        "for f in file_list:\n",
        "  with open(save_dir + f, 'r', encoding='utf-8') as fp:\n",
        "    jsn = json.load(fp)\n",
        "    print(f, len(jsn))"
      ],
      "execution_count": 0,
      "outputs": [
        {
          "output_type": "stream",
          "text": [
            "condensed_2009.json 56\n",
            "condensed_2010.json 142\n",
            "condensed_2011.json 774\n",
            "condensed_2012.json 3531\n",
            "condensed_2013.json 8144\n",
            "condensed_2014.json 5784\n",
            "condensed_2015.json 7536\n",
            "condensed_2016.json 4225\n",
            "condensed_2017.json 2605\n",
            "condensed_2018.json 3510\n"
          ],
          "name": "stdout"
        }
      ]
    },
    {
      "cell_type": "code",
      "metadata": {
        "id": "gtQQbZngYDtq",
        "colab_type": "code",
        "colab": {
          "base_uri": "https://localhost:8080/",
          "height": 34
        },
        "outputId": "2d1cee22-82e5-419b-8b5d-d50ea63ab652"
      },
      "source": [
        "!pwd"
      ],
      "execution_count": 29,
      "outputs": [
        {
          "output_type": "stream",
          "text": [
            "/content\n"
          ],
          "name": "stdout"
        }
      ]
    }
  ]
}